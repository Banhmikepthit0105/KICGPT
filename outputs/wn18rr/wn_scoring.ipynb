{
 "cells": [
  {
   "cell_type": "code",
   "execution_count": 42,
   "id": "72feabe0",
   "metadata": {},
   "outputs": [],
   "source": [
    "import pandas as pd \n",
    "from collections import defaultdict\n"
   ]
  },
  {
   "cell_type": "code",
   "execution_count": null,
   "id": "80f6cc86",
   "metadata": {},
   "outputs": [],
   "source": [
    "entity_df = pd.read_csv(\"entity_data.csv\")\n",
    "\n",
    "name_to_id_map = defaultdict(list)\n",
    "for name, eid in zip(\n",
    "    entity_df['entity_name'].str.lower().str.replace(\" \", \"\", regex=False),\n",
    "    entity_df['id']\n",
    "):\n",
    "    name_to_id_map[name].append(eid)\n",
    "\n",
    "id_to_name_map = dict(\n",
    "    zip(entity_df['id'], entity_df['entity_name'].str.lower().str.strip())\n",
    ")\n",
    "\n",
    "entity_to_id_map = defaultdict(list)\n",
    "for entity, eid in zip(entity_df['entity'], entity_df['id']):\n",
    "    entity_to_id_map[entity].append(eid)\n",
    "\n",
    "entity_to_name_map = dict(\n",
    "    zip(entity_df['entity'], entity_df['entity_name'].str.lower().str.strip())\n",
    ")"
   ]
  },
  {
   "cell_type": "code",
   "execution_count": 44,
   "id": "36ba3281",
   "metadata": {},
   "outputs": [],
   "source": [
    "def compute_metrics_tail(row):\n",
    "    preds = [p.strip() for p in row[\"Prediction\"].split(\"|\")]\n",
    "    answer = row[\"Answer\"]\n",
    "    \n",
    "    if answer in preds:\n",
    "        rank = preds.index(answer)\n",
    "        hist1 = 1 if rank == 0 else 0\n",
    "        hist3 = 1 if rank < 3 else 0\n",
    "        hist10 = 1 if rank < 10 else 0\n",
    "        mrr = 1 / (rank + 1)\n",
    "    else:\n",
    "        hist1, hist3, hist10, mrr = 0, 0, 0, 0.0\n",
    "    \n",
    "    return pd.Series([hist1, hist3, hist10, mrr])\n",
    "\n",
    "def compute_metrics_head(row):\n",
    "    preds = [p.strip() for p in row[\"Prediction\"].split(\"|\")]\n",
    "    answer = row[\"HeadEntity\"]\n",
    "    \n",
    "    if answer in preds:\n",
    "        rank = preds.index(answer)\n",
    "        hist1 = 1 if rank == 0 else 0\n",
    "        hist3 = 1 if rank < 3 else 0\n",
    "        hist10 = 1 if rank < 10 else 0\n",
    "        mrr = 1 / (rank + 1)\n",
    "    else:\n",
    "        hist1, hist3, hist10, mrr = 0, 0, 0, 0.0\n",
    "    \n",
    "    return pd.Series([hist1, hist3, hist10, mrr])"
   ]
  },
  {
   "cell_type": "code",
   "execution_count": null,
   "id": "7c0fdb78",
   "metadata": {},
   "outputs": [
    {
     "data": {
      "text/html": [
       "<div>\n",
       "<style scoped>\n",
       "    .dataframe tbody tr th:only-of-type {\n",
       "        vertical-align: middle;\n",
       "    }\n",
       "\n",
       "    .dataframe tbody tr th {\n",
       "        vertical-align: top;\n",
       "    }\n",
       "\n",
       "    .dataframe thead th {\n",
       "        text-align: right;\n",
       "    }\n",
       "</style>\n",
       "<table border=\"1\" class=\"dataframe\">\n",
       "  <thead>\n",
       "    <tr style=\"text-align: right;\">\n",
       "      <th></th>\n",
       "      <th>hit@1</th>\n",
       "      <th>hit@3</th>\n",
       "      <th>hit@10</th>\n",
       "      <th>MRR</th>\n",
       "    </tr>\n",
       "  </thead>\n",
       "  <tbody>\n",
       "    <tr>\n",
       "      <th>0</th>\n",
       "      <td>0.296</td>\n",
       "      <td>0.403</td>\n",
       "      <td>0.489</td>\n",
       "      <td>0.352121</td>\n",
       "    </tr>\n",
       "  </tbody>\n",
       "</table>\n",
       "</div>"
      ],
      "text/plain": [
       "   hit@1  hit@3  hit@10       MRR\n",
       "0  0.296  0.403   0.489  0.352121"
      ]
     },
     "execution_count": 45,
     "metadata": {},
     "output_type": "execute_result"
    }
   ],
   "source": [
    "output_tail_df = pd.read_json(\"output_tail.txt\", lines=True)\n",
    "output_tail = output_tail_df.head(1005).copy()\n",
    "output_tail[\"Answer\"] = output_tail[\"Answer\"].map(entity_to_name_map.get)\n",
    "\n",
    "output_tail[[\"hist1\", \"hist3\", \"hist10\", \"mrr\"]] = output_tail.apply(compute_metrics_tail, axis=1)\n",
    "\n",
    "\n",
    "n = len(output_tail)\n",
    "\n",
    "tail_scores = {\n",
    "    \"hit@1\": output_tail[\"hist1\"].sum() / n,\n",
    "    \"hit@3\": output_tail[\"hist3\"].sum() / n,\n",
    "    \"hit@10\": output_tail[\"hist10\"].sum() / n,\n",
    "    \"MRR\": output_tail[\"mrr\"].mean()\n",
    "}\n",
    "\n",
    "tail_scores = pd.DataFrame([tail_scores])\n",
    "tail_scores"
   ]
  },
  {
   "cell_type": "code",
   "execution_count": null,
   "id": "404bb81c",
   "metadata": {},
   "outputs": [
    {
     "data": {
      "text/html": [
       "<div>\n",
       "<style scoped>\n",
       "    .dataframe tbody tr th:only-of-type {\n",
       "        vertical-align: middle;\n",
       "    }\n",
       "\n",
       "    .dataframe tbody tr th {\n",
       "        vertical-align: top;\n",
       "    }\n",
       "\n",
       "    .dataframe thead th {\n",
       "        text-align: right;\n",
       "    }\n",
       "</style>\n",
       "<table border=\"1\" class=\"dataframe\">\n",
       "  <thead>\n",
       "    <tr style=\"text-align: right;\">\n",
       "      <th></th>\n",
       "      <th>hit@1</th>\n",
       "      <th>hit@3</th>\n",
       "      <th>hit@10</th>\n",
       "      <th>MRR</th>\n",
       "    </tr>\n",
       "  </thead>\n",
       "  <tbody>\n",
       "    <tr>\n",
       "      <th>0</th>\n",
       "      <td>0.238</td>\n",
       "      <td>0.38</td>\n",
       "      <td>0.453</td>\n",
       "      <td>0.308892</td>\n",
       "    </tr>\n",
       "  </tbody>\n",
       "</table>\n",
       "</div>"
      ],
      "text/plain": [
       "   hit@1  hit@3  hit@10       MRR\n",
       "0  0.238   0.38   0.453  0.308892"
      ]
     },
     "execution_count": 46,
     "metadata": {},
     "output_type": "execute_result"
    }
   ],
   "source": [
    "output_head_df = pd.read_json(\"output_head.txt\", lines=True)\n",
    "output_head = output_head_df.head(1005).copy()\n",
    "output_head[\"HeadEntity\"] = output_tail[\"HeadEntity\"].map(entity_to_name_map.get)\n",
    "\n",
    "output_head[[\"hist1\", \"hist3\", \"hist10\", \"mrr\"]] = output_head.apply(compute_metrics_head, axis=1)\n",
    "\n",
    "\n",
    "n = len(output_head)\n",
    "\n",
    "head_scores = {\n",
    "    \"hit@1\": output_head[\"hist1\"].sum() / n,\n",
    "    \"hit@3\": output_head[\"hist3\"].sum() / n,\n",
    "    \"hit@10\": output_head[\"hist10\"].sum() / n,\n",
    "    \"MRR\": output_head[\"mrr\"].mean()\n",
    "}\n",
    "\n",
    "head_scores = pd.DataFrame([head_scores])\n",
    "head_scores\n"
   ]
  },
  {
   "cell_type": "code",
   "execution_count": null,
   "id": "90bd076d",
   "metadata": {},
   "outputs": [
    {
     "data": {
      "text/html": [
       "<div>\n",
       "<style scoped>\n",
       "    .dataframe tbody tr th:only-of-type {\n",
       "        vertical-align: middle;\n",
       "    }\n",
       "\n",
       "    .dataframe tbody tr th {\n",
       "        vertical-align: top;\n",
       "    }\n",
       "\n",
       "    .dataframe thead th {\n",
       "        text-align: right;\n",
       "    }\n",
       "</style>\n",
       "<table border=\"1\" class=\"dataframe\">\n",
       "  <thead>\n",
       "    <tr style=\"text-align: right;\">\n",
       "      <th></th>\n",
       "      <th>0</th>\n",
       "    </tr>\n",
       "  </thead>\n",
       "  <tbody>\n",
       "    <tr>\n",
       "      <th>hit@1</th>\n",
       "      <td>0.267000</td>\n",
       "    </tr>\n",
       "    <tr>\n",
       "      <th>hit@3</th>\n",
       "      <td>0.391500</td>\n",
       "    </tr>\n",
       "    <tr>\n",
       "      <th>hit@10</th>\n",
       "      <td>0.471000</td>\n",
       "    </tr>\n",
       "    <tr>\n",
       "      <th>MRR</th>\n",
       "      <td>0.330507</td>\n",
       "    </tr>\n",
       "  </tbody>\n",
       "</table>\n",
       "</div>"
      ],
      "text/plain": [
       "               0\n",
       "hit@1   0.267000\n",
       "hit@3   0.391500\n",
       "hit@10  0.471000\n",
       "MRR     0.330507"
      ]
     },
     "execution_count": 47,
     "metadata": {},
     "output_type": "execute_result"
    }
   ],
   "source": [
    "average_score = pd.concat([head_scores, tail_scores]).mean().to_frame()\n",
    "average_score"
   ]
  }
 ],
 "metadata": {
  "kernelspec": {
   "display_name": ".venv",
   "language": "python",
   "name": "python3"
  },
  "language_info": {
   "codemirror_mode": {
    "name": "ipython",
    "version": 3
   },
   "file_extension": ".py",
   "mimetype": "text/x-python",
   "name": "python",
   "nbconvert_exporter": "python",
   "pygments_lexer": "ipython3",
   "version": "3.12.3"
  }
 },
 "nbformat": 4,
 "nbformat_minor": 5
}
